{
 "cells": [
  {
   "cell_type": "markdown",
   "metadata": {},
   "source": [
    "<center>\n",
    "<h1>Get Financial Data From FMP</h1>"
   ]
  },
  {
   "cell_type": "markdown",
   "metadata": {},
   "source": [
    "## Prep"
   ]
  },
  {
   "cell_type": "markdown",
   "metadata": {},
   "source": [
    "<center>\n",
    "<h1>Get Financial Data From FMP</h1>"
   ]
  },
  {
   "cell_type": "markdown",
   "metadata": {},
   "source": [
    "## Prep"
   ]
  },
  {
   "cell_type": "markdown",
   "metadata": {},
   "source": [
    "Actually there are a lot of websites providing financial data ([finviz](https://finviz.com/),[yahoo finance](https://finance.yahoo.com/)...). A guide to use finviz to get financial data is given [here](https://towardsdatascience.com/get-up-to-date-financial-ratios-p-e-p-b-and-more-of-stocks-using-python-4b53dd82908f).\n",
    "\n",
    "Here we obtain data from [FinancialModellingPrep](https://financialmodelingprep.com/) because it provides the most complete data, especially when analyzing historical ratios for the **past few years** for each company. Also, the data can be directly used in [Fundamental Analysis](https://www.investopedia.com/terms/f/fundamentalanalysis.asp) without changing the type.\n",
    "\n",
    "To be able to get the data you need an API Key from FinancialModellingPrep. Here is the instruction to get the API key:\n",
    "\n",
    "1. Go to the [Documentation page](https://financialmodelingprep.com/developer/docs/) of FMP\n",
    "2. Click on \"Get my API KEY here\"\n",
    "3. Create a new account or log in\n",
    "\n",
    "Notice that unpaid account only gives you **limited requests (250)**, you have to upgrade to a premium version or create a new account if you want to keep going. In the code below, I use my own API key to get the result and you should expect an **error** if you don't replace API with you own valid API. \n",
    "\n",
    "Note that I am **not** affiliated with FinancialModellingPrep."
   ]
  },
  {
   "cell_type": "markdown",
   "metadata": {},
   "source": [
    "## Step By Step Guide to Get Financial Data from FMP"
   ]
  },
  {
   "cell_type": "markdown",
   "metadata": {},
   "source": [
    "### 1. Import Libraries"
   ]
  },
  {
   "cell_type": "code",
   "execution_count": 1,
   "metadata": {},
   "outputs": [],
   "source": [
    "import numpy as np\n",
    "import pandas as pd\n",
    "from urllib.request import urlopen\n",
    "import warnings\n",
    "import json\n",
    "warnings.filterwarnings('ignore')\n",
    "# enable pandas to show all the column\n",
    "pd.set_option('display.max_columns', None)"
   ]
  },
  {
   "cell_type": "markdown",
   "metadata": {},
   "source": [
    "### 2. [Functions to Get Data](https://financialmodelingprep.com/developer/docs/financial-ratio-free-api/#Python)\n"
   ]
  },
  {
   "cell_type": "code",
   "execution_count": 2,
   "metadata": {},
   "outputs": [],
   "source": [
    "def get(url):\n",
    "    response = urlopen(url)\n",
    "    data = response.read().decode(\"utf-8\")\n",
    "    return json.loads(data)"
   ]
  },
  {
   "cell_type": "markdown",
   "metadata": {},
   "source": [
    "### 3. Initialize Pandas DataFrame and Store Data from FMP in It"
   ]
  },
  {
   "attachments": {},
   "cell_type": "markdown",
   "metadata": {},
   "source": [
    "This step is the main step where you can set the list of tickers and the financial data that you need. Here I use tickers of Apple, Google, Amazon and Tesla and get the financial data of FY 2019.\n",
    "\n",
    "FMP provides all kinds of financial data, which are:\n",
    "- `Financial Ratios` - Liquidity Measurement Ratios, Profitability Indicator Ratios, Debt Ratios, Operating Performance Ratios, Cash Flow Indicator Ratios and Investment Valuation Ratios\n",
    "- `Financial Statements` - Income Statement, Balance Sheet Statement and Cash Flow Statement\n",
    "- `Enterprise Value` - Stock Price, Number of Shares, Market Capitalization...\n",
    "- ......\n",
    "\n",
    "Actually this 3 categories almost cover all financial data that we need. For other financial data, you can search by yourself on [Documentation page](https://financialmodelingprep.com/developer/docs/)\n",
    "\n",
    "Note that there are some financial data that we can not get directly from FMP (e.g. EPS [YoY%](https://www.investopedia.com/terms/y/year-over-year.asp)), we can get the EPS 1 year ago and current EPS to compute the ratio, which I put in \"Other_metric\"."
   ]
  },
  {
   "cell_type": "code",
   "execution_count": 3,
   "metadata": {},
   "outputs": [],
   "source": [
    "tickers = [\"AAPL\", \"GOOGL\", \"AMZN\", \"TSLA\"]\n",
    "ratio_metric = [\"returnOnAssets\",\"priceEarningsRatio\",\"inventoryTurnover\"]\n",
    "IS_metric = [\"eps\",\"ebitdaratio\",\"revenue\"]\n",
    "BS_metric = [\"totalDebt\",\"totalAssets\",\"totalStockholdersEquity\"]\n",
    "CF_metric = [\"capitalExpenditure\",\"operatingCashFlow\",\"dividendsPaid\"]\n",
    "Values_metric = [\"marketCapitalization\"]\n",
    "Other_metric = [\"eps_1yearago\",\"eps_5yearsago\",\"revenue_1yearago\",\"revenue_5yearsago\"]\n",
    "metric = ratio_metric + IS_metric + BS_metric + CF_metric + Values_metric + Other_metric\n",
    "\n",
    "df = pd.DataFrame(index=tickers, columns=metric)"
   ]
  },
  {
   "cell_type": "code",
   "execution_count": 4,
   "metadata": {},
   "outputs": [],
   "source": [
    "def get_fundamental_data(df):\n",
    "    for symbol in df.index:\n",
    "        try:\n",
    "            url_ratios = (\"https://financialmodelingprep.com/api/v3/ratios/\" + symbol +\"?apikey=Your API key\")\n",
    "            url_IS = (\"https://financialmodelingprep.com/api/v3/income-statement/\" + symbol +\"?apikey=Your API key\")\n",
    "            url_BS = (\"https://financialmodelingprep.com/api/v3/balance-sheet-statement/\" + symbol +\"?apikey=Your API key\")\n",
    "            url_CF = (\"https://financialmodelingprep.com/api/v3/cash-flow-statement/\" + symbol +\"?apikey=Your API key\")\n",
    "            url_Values = (\"https://financialmodelingprep.com/api/v3/enterprise-values/\" + symbol +\"?apikey=Your API key\")\n",
    "            \n",
    "            for i in ratio_metric:                \n",
    "                df.loc[symbol,i] = get(url_ratios)[0][i]   \n",
    "            for i in IS_metric:\n",
    "                df.loc[symbol,i] = get(url_IS)[0][i]\n",
    "            for i in BS_metric:\n",
    "                df.loc[symbol,i] = get(url_BS)[0][i]\n",
    "            for i in CF_metric:\n",
    "                df.loc[symbol,i] = get(url_CF)[0][i]            \n",
    "            for i in Values_metric:\n",
    "                df.loc[symbol,i] = get(url_Values)[0][i]     \n",
    "                \n",
    "# It is better to write the financial data below in this order (write 1 year ago first, then 5 years ago) because there \n",
    "# are some stocks (e.g. Google) which don't have data of EPS 5 years ago. This order shows financial data as much as\n",
    "# possible because the loop ends once a NaN appears.\n",
    "            df.loc[symbol,\"eps_1yearago\"] = get(url_IS)[1][\"eps\"]\n",
    "            df.loc[symbol,\"revenue_1yearago\"] = get(url_IS)[1][\"revenue\"]\n",
    "            df.loc[symbol,\"eps_5yearsago\"] = get(url_IS)[5][\"eps\"]\n",
    "            df.loc[symbol,\"revenue_5yearsago\"] = get(url_IS)[5][\"revenue\"]\n",
    " \n",
    "        except Exception as e:\n",
    "            print (symbol, 'not found')\n",
    "    return df"
   ]
  },
  {
   "cell_type": "code",
   "execution_count": 5,
   "metadata": {},
   "outputs": [
    {
     "name": "stdout",
     "output_type": "stream",
     "text": [
      "GOOGL not found\n"
     ]
    }
   ],
   "source": [
    "df = get_fundamental_data(df)"
   ]
  },
  {
   "cell_type": "code",
   "execution_count": 6,
   "metadata": {},
   "outputs": [
    {
     "data": {
      "text/html": [
       "<div>\n",
       "<style scoped>\n",
       "    .dataframe tbody tr th:only-of-type {\n",
       "        vertical-align: middle;\n",
       "    }\n",
       "\n",
       "    .dataframe tbody tr th {\n",
       "        vertical-align: top;\n",
       "    }\n",
       "\n",
       "    .dataframe thead th {\n",
       "        text-align: right;\n",
       "    }\n",
       "</style>\n",
       "<table border=\"1\" class=\"dataframe\">\n",
       "  <thead>\n",
       "    <tr style=\"text-align: right;\">\n",
       "      <th></th>\n",
       "      <th>returnOnAssets</th>\n",
       "      <th>priceEarningsRatio</th>\n",
       "      <th>inventoryTurnover</th>\n",
       "      <th>eps</th>\n",
       "      <th>ebitdaratio</th>\n",
       "      <th>revenue</th>\n",
       "      <th>totalDebt</th>\n",
       "      <th>totalAssets</th>\n",
       "      <th>totalStockholdersEquity</th>\n",
       "      <th>capitalExpenditure</th>\n",
       "      <th>operatingCashFlow</th>\n",
       "      <th>dividendsPaid</th>\n",
       "      <th>marketCapitalization</th>\n",
       "      <th>eps_1yearago</th>\n",
       "      <th>eps_5yearsago</th>\n",
       "      <th>revenue_1yearago</th>\n",
       "      <th>revenue_5yearsago</th>\n",
       "    </tr>\n",
       "  </thead>\n",
       "  <tbody>\n",
       "    <tr>\n",
       "      <th>AAPL</th>\n",
       "      <td>0.16323</td>\n",
       "      <td>20.8135</td>\n",
       "      <td>39.4014</td>\n",
       "      <td>11.97</td>\n",
       "      <td>0.293946</td>\n",
       "      <td>260174000000</td>\n",
       "      <td>102067000000</td>\n",
       "      <td>338516000000</td>\n",
       "      <td>90488000000</td>\n",
       "      <td>10495000000</td>\n",
       "      <td>69391000000</td>\n",
       "      <td>-14119000000</td>\n",
       "      <td>1150071557700</td>\n",
       "      <td>12.01</td>\n",
       "      <td>6.49</td>\n",
       "      <td>265595000000</td>\n",
       "      <td>182795000000</td>\n",
       "    </tr>\n",
       "    <tr>\n",
       "      <th>GOOGL</th>\n",
       "      <td>0.124472</td>\n",
       "      <td>14.6796</td>\n",
       "      <td>71.968</td>\n",
       "      <td>49.59</td>\n",
       "      <td>0.284276</td>\n",
       "      <td>161857000000</td>\n",
       "      <td>4912000000</td>\n",
       "      <td>275909000000</td>\n",
       "      <td>201442000000</td>\n",
       "      <td>23548000000</td>\n",
       "      <td>54520000000</td>\n",
       "      <td>0</td>\n",
       "      <td>504140484750</td>\n",
       "      <td>44.22</td>\n",
       "      <td>NaN</td>\n",
       "      <td>136819000000</td>\n",
       "      <td>NaN</td>\n",
       "    </tr>\n",
       "    <tr>\n",
       "      <th>AMZN</th>\n",
       "      <td>0.0514455</td>\n",
       "      <td>79.7477</td>\n",
       "      <td>8.07611</td>\n",
       "      <td>23.46</td>\n",
       "      <td>0.129509</td>\n",
       "      <td>280522000000</td>\n",
       "      <td>23414000000</td>\n",
       "      <td>225248000000</td>\n",
       "      <td>62060000000</td>\n",
       "      <td>16861000000</td>\n",
       "      <td>38514000000</td>\n",
       "      <td>0</td>\n",
       "      <td>924115920000</td>\n",
       "      <td>20.68</td>\n",
       "      <td>-0.52</td>\n",
       "      <td>232887000000</td>\n",
       "      <td>88988000000</td>\n",
       "    </tr>\n",
       "    <tr>\n",
       "      <th>TSLA</th>\n",
       "      <td>-0.0251246</td>\n",
       "      <td>-131.582</td>\n",
       "      <td>5.77393</td>\n",
       "      <td>-4.92</td>\n",
       "      <td>0.0924811</td>\n",
       "      <td>24578000000</td>\n",
       "      <td>2163000000</td>\n",
       "      <td>34309000000</td>\n",
       "      <td>6618000000</td>\n",
       "      <td>1332000000</td>\n",
       "      <td>2405000000</td>\n",
       "      <td>0</td>\n",
       "      <td>1.13423e+11</td>\n",
       "      <td>-5.72</td>\n",
       "      <td>-2.36</td>\n",
       "      <td>21461268000</td>\n",
       "      <td>3198356000</td>\n",
       "    </tr>\n",
       "  </tbody>\n",
       "</table>\n",
       "</div>"
      ],
      "text/plain": [
       "      returnOnAssets priceEarningsRatio inventoryTurnover    eps ebitdaratio  \\\n",
       "AAPL         0.16323            20.8135           39.4014  11.97    0.293946   \n",
       "GOOGL       0.124472            14.6796            71.968  49.59    0.284276   \n",
       "AMZN       0.0514455            79.7477           8.07611  23.46    0.129509   \n",
       "TSLA      -0.0251246           -131.582           5.77393  -4.92   0.0924811   \n",
       "\n",
       "            revenue     totalDebt   totalAssets totalStockholdersEquity  \\\n",
       "AAPL   260174000000  102067000000  338516000000             90488000000   \n",
       "GOOGL  161857000000    4912000000  275909000000            201442000000   \n",
       "AMZN   280522000000   23414000000  225248000000             62060000000   \n",
       "TSLA    24578000000    2163000000   34309000000              6618000000   \n",
       "\n",
       "      capitalExpenditure operatingCashFlow dividendsPaid marketCapitalization  \\\n",
       "AAPL         10495000000       69391000000  -14119000000        1150071557700   \n",
       "GOOGL        23548000000       54520000000             0         504140484750   \n",
       "AMZN         16861000000       38514000000             0         924115920000   \n",
       "TSLA          1332000000        2405000000             0          1.13423e+11   \n",
       "\n",
       "      eps_1yearago eps_5yearsago revenue_1yearago revenue_5yearsago  \n",
       "AAPL         12.01          6.49     265595000000      182795000000  \n",
       "GOOGL        44.22           NaN     136819000000               NaN  \n",
       "AMZN         20.68         -0.52     232887000000       88988000000  \n",
       "TSLA         -5.72         -2.36      21461268000        3198356000  "
      ]
     },
     "execution_count": 6,
     "metadata": {},
     "output_type": "execute_result"
    }
   ],
   "source": [
    "df"
   ]
  }
 ],
 "metadata": {
  "kernelspec": {
   "display_name": "Python 3",
   "language": "python",
   "name": "python3"
  },
  "language_info": {
   "codemirror_mode": {
    "name": "ipython",
    "version": 3
   },
   "file_extension": ".py",
   "mimetype": "text/x-python",
   "name": "python",
   "nbconvert_exporter": "python",
   "pygments_lexer": "ipython3",
   "version": "3.7.6"
  }
 },
 "nbformat": 4,
 "nbformat_minor": 4
}

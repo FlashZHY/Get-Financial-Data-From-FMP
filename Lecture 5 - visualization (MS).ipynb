{
 "cells": [
  {
   "cell_type": "markdown",
   "metadata": {
    "slideshow": {
     "slide_type": "slide"
    }
   },
   "source": [
    "<center>\n",
    "<h1>Lecture 5: Visualization</h1>\n",
    "<h2>Predictive Analytics using Python</h2>\n",
    "<h3>Simon Business School</h3>\n",
    "</center> "
   ]
  },
  {
   "cell_type": "markdown",
   "metadata": {
    "slideshow": {
     "slide_type": "subslide"
    }
   },
   "source": [
    "# Announcements\n",
    "\n",
    "* \n"
   ]
  },
  {
   "cell_type": "markdown",
   "metadata": {
    "slideshow": {
     "slide_type": "subslide"
    }
   },
   "source": [
    "# Visualization\n",
    "* Graphical representation of data\n",
    "* Communicating information <!--%clearly and effecitively-->\n",
    "* Exploring data\n",
    "\t* Identifying trends in time-series\n",
    "\t* Comparison across categories <!--% products, people-->\n",
    "\t* Proportions <!--% via pie charts -->\n",
    "\t* Correlations <!--%between attributes-->\n",
    "\t* Understanding geographic/locational attributes"
   ]
  },
  {
   "cell_type": "markdown",
   "metadata": {
    "slideshow": {
     "slide_type": "subslide"
    }
   },
   "source": [
    "# Visualization\n",
    "\n",
    "This lecture: explore Python data visualization packages \n",
    "1. __Matplotlib__\n",
    "2. Matplotlib - PyPlot\n",
    "3. Pandas\n",
    "4. Basic Image Manipulation with NumPy\n",
    "5. Interactive Tools\n",
    "6. Other packages\n"
   ]
  },
  {
   "cell_type": "markdown",
   "metadata": {
    "slideshow": {
     "slide_type": "slide"
    }
   },
   "source": [
    "# (1) [Matplotlib](http://matplotlib.org)\n",
    "\n",
    "* Cross-platform Python library for creating high-quality plots\n",
    "* [Variety](http://matplotlib.org/gallery.html) of plots (lines, bars, pie charts, customized, ...) \n",
    "* Well [documented](http://matplotlib.org/contents.html) with a large user base ([stackoverflow](http://stackoverflow.com/questions/tagged/matplotlib?sort=frequent&pageSize=15),  <!--% easy to find answers online to how to do things--> [sourceforge](https://sourceforge.net/p/matplotlib/mailman/))\n",
    "* Simple Matlab-like interface using pyplot\t"
   ]
  },
  {
   "cell_type": "markdown",
   "metadata": {
    "slideshow": {
     "slide_type": "subslide"
    }
   },
   "source": [
    "# Basic Plot Elements\n",
    "<img src=\"images/Slide1.PNG\" style=\"width: 80%;\"  />\n",
    "\n",
    "Source: matplotlib  [documentation](http://matplotlib.org/examples/pie_and_polar_charts/pie_demo_features.html)"
   ]
  },
  {
   "cell_type": "markdown",
   "metadata": {
    "slideshow": {
     "slide_type": "subslide"
    }
   },
   "source": [
    "# Basic Plot Elements - Figure\n",
    "\n",
    "* Top level container for all plot elements\n",
    "* Contains multiple Axes\n",
    "<img src=\"images/Slide2.PNG\" style=\"width: 80%;\"  />"
   ]
  },
  {
   "cell_type": "markdown",
   "metadata": {
    "slideshow": {
     "slide_type": "subslide"
    }
   },
   "source": [
    "# Basic Plot Elements - Axes\n",
    "\n",
    "* Contain all figure elements associated with a \"Sub-plot\" \n",
    "<img src=\"images/Slide3.PNG\" style=\"width: 80%;\"  />"
   ]
  },
  {
   "cell_type": "markdown",
   "metadata": {
    "slideshow": {
     "slide_type": "subslide"
    }
   },
   "source": [
    "# Basic Plot Elements - X/Y Axis\n",
    "* Control limits, labels and location of ticks on each axis\n",
    "<img src=\"images/Slide4.PNG\" style=\"width: 80%;\"  />"
   ]
  },
  {
   "cell_type": "markdown",
   "metadata": {
    "slideshow": {
     "slide_type": "subslide"
    }
   },
   "source": [
    "# Matplotlib\n",
    "\n",
    "* Import library:  import matplotlib.pyplot as plt\n",
    "* Backends:  'osx', 'qt4', 'qt5', 'gtk3', 'notebook', 'wx', 'qt', 'nbagg','gtk', 'tk', 'inline'\t\n",
    "\t* inline - shows plots (inside jupyter)\n",
    "\t* nbagg - interactive (inside jupyter)\n",
    "\t* tk - shows plots in a separate windows (useful dialog window)\n",
    "\t* Setting jupyter backend:   %matplotlib inline\n",
    "\t* Restart kernel to change the backend\n",
    "* Create plot with a single axis:  fig, ax = plt.subplots()\n",
    "* In jupyter, plots are automatically displayed after each cell. Use plt.show() and plt.close() outside jupyter.\n",
    "* Plot:  ax.plot([1,2,3,4],[5,1,4,2])\n",
    "* Change property:  ax.set_title('title')"
   ]
  },
  {
   "cell_type": "markdown",
   "metadata": {
    "slideshow": {
     "slide_type": "slide"
    }
   },
   "source": [
    "# Plotting with matplotlib"
   ]
  },
  {
   "cell_type": "code",
   "execution_count": 1,
   "metadata": {
    "slideshow": {
     "slide_type": "-"
    }
   },
   "outputs": [],
   "source": [
    "import matplotlib.pyplot as plt\n",
    "import numpy as np"
   ]
  },
  {
   "cell_type": "code",
   "execution_count": 2,
   "metadata": {},
   "outputs": [
    {
     "data": {
      "text/plain": [
       "[<matplotlib.lines.Line2D at 0x11e88a650>]"
      ]
     },
     "execution_count": 2,
     "metadata": {},
     "output_type": "execute_result"
    },
    {
     "data": {
      "image/png": "[encoded data removed]",
      "text/plain": [
       "<Figure size 432x288 with 1 Axes>"
      ]
     },
     "metadata": {
      "needs_background": "light"
     },
     "output_type": "display_data"
    }
   ],
   "source": [
    "plt.plot((1,2,3),(4,3,-1))"
   ]
  },
  {
   "cell_type": "code",
   "execution_count": null,
   "metadata": {},
   "outputs": [],
   "source": [
    "plt.plot([1,2,3,4],[20,15,25,30]);"
   ]
  },
  {
   "cell_type": "code",
   "execution_count": null,
   "metadata": {
    "slideshow": {
     "slide_type": "fragment"
    }
   },
   "outputs": [],
   "source": [
    "# backend: ['osx', 'qt4', 'qt5', 'gtk3', 'notebook', 'wx', 'qt', 'nbagg','gtk', 'tk', 'inline']\n",
    "%matplotlib inline \n",
    "# inline - indicates that plots will be automatically displayed within jupyter"
   ]
  },
  {
   "cell_type": "code",
   "execution_count": null,
   "metadata": {},
   "outputs": [],
   "source": [
    "fig = plt.figure()\n",
    "ax = fig.add_subplot(1,1,1)"
   ]
  },
  {
   "cell_type": "code",
   "execution_count": null,
   "metadata": {
    "slideshow": {
     "slide_type": "fragment"
    }
   },
   "outputs": [],
   "source": [
    "#fig,ax = plt.subplots()就是\n",
    "#fig = plt.figure()\n",
    "#ax = fig.add_subplot()\n",
    "fig, ax = plt.subplots() # fig - points to figure; ax - points to the single plotting area inside fig\n",
    "#plt.show() # required outside jupiter (try)"
   ]
  },
  {
   "cell_type": "markdown",
   "metadata": {
    "slideshow": {
     "slide_type": "subslide"
    }
   },
   "source": [
    "### Plotting a line with matplotlib"
   ]
  },
  {
   "cell_type": "code",
   "execution_count": null,
   "metadata": {},
   "outputs": [],
   "source": [
    "def f():\n",
    "    return(3,4)\n",
    "a,b = f()"
   ]
  },
  {
   "cell_type": "code",
   "execution_count": null,
   "metadata": {
    "slideshow": {
     "slide_type": "-"
    }
   },
   "outputs": [],
   "source": [
    "fig, ax = plt.subplots()\n",
    "ax.plot([1,2,3,4],[20,15,25,30]) # plot a lint using 4 points (1,20) (2,15) (3,25) (4,30)"
   ]
  },
  {
   "cell_type": "markdown",
   "metadata": {
    "slideshow": {
     "slide_type": "subslide"
    }
   },
   "source": [
    "### Plotting a line with matplotlib - controlling style"
   ]
  },
  {
   "cell_type": "code",
   "execution_count": null,
   "metadata": {
    "slideshow": {
     "slide_type": "-"
    }
   },
   "outputs": [],
   "source": [
    "fig, ax = plt.subplots()\n",
    "ax.plot([1,2,3,4],[20,15,25,30],color='r',marker='o',markersize=10,linestyle ='--', linewidth=5, label='Red team')\n",
    "ax.set_xlabel('x')\n",
    "ax.set_ylabel('y')\n",
    "ax.set_title('title')\n",
    "ax.set_xlim([0,7])\n",
    "ax.set_ylim([0,50])\n",
    "ax.set_xticks([1,2,3,4])\n",
    "ax.set_xticklabels(['A','B','C','D'])\n",
    "ax.legend()"
   ]
  },
  {
   "cell_type": "code",
   "execution_count": null,
   "metadata": {
    "slideshow": {
     "slide_type": "-"
    }
   },
   "outputs": [],
   "source": [
    "fig, ax = plt.subplots()\n",
    "ax.plot([1,2,3,4],[20,15,25,30],color='r',marker='o',markersize=10,linestyle ='--', linewidth=5, label='Red team')\n",
    "ax.set_xlabel('x')\n",
    "ax.set_ylabel('y')\n",
    "ax.set_title('title')\n",
    "ax.set_xlim([0,7])\n",
    "ax.set_ylim([0,50])\n",
    "ax.set_xticks([1,2,3,4])\n",
    "ax.set_xticklabels(['A','B','C','D'])\n",
    "ax.legend();"
   ]
  },
  {
   "cell_type": "code",
   "execution_count": null,
   "metadata": {},
   "outputs": [],
   "source": [
    "fig, ax = plt.subplots()\n",
    "ax.plot([1,2,3,4],[20,15,25,30],color='r',marker='o',markersize=10,linestyle ='--', linewidth=5, label='Red team')\n",
    "ax.set_xlabel('x')\n",
    "ax.set_ylabel('y')\n",
    "ax.set_title('title')\n",
    "#ax.set_xlim([0,7])\n",
    "#ax.set_ylim([0,50])\n",
    "ax.set_xticks([1,2,3,4])\n",
    "ax.set_xticklabels(['A','B','C','D'])\n",
    "ax.legend();#如果不设置xy的坐标区间，默认使得图像最饱满"
   ]
  },
  {
   "cell_type": "markdown",
   "metadata": {
    "slideshow": {
     "slide_type": "subslide"
    }
   },
   "source": [
    "### Multiple curves on the same plot"
   ]
  },
  {
   "cell_type": "code",
   "execution_count": null,
   "metadata": {
    "slideshow": {
     "slide_type": "-"
    }
   },
   "outputs": [],
   "source": [
    "fig, ax = plt.subplots()\n",
    "ax.plot([1,2,3,4],[20,15,25,30])\n",
    "ax.plot([1,2,3,4],[16,21,35,23])"
   ]
  },
  {
   "cell_type": "markdown",
   "metadata": {
    "slideshow": {
     "slide_type": "subslide"
    }
   },
   "source": [
    "### Multiple curves on the same plot"
   ]
  },
  {
   "cell_type": "code",
   "execution_count": null,
   "metadata": {
    "slideshow": {
     "slide_type": "-"
    }
   },
   "outputs": [],
   "source": [
    "fig, ax = plt.subplots()\n",
    "ax.plot([1,2,3,4],[20,15,25,30],color='r',marker='o',linestyle ='-.', label='Red team')\n",
    "ax.plot([1,2,3,4],[16,21,35,23],color='b',marker='x',linestyle ='--', label='Blue team')\n",
    "ax.set_xlabel('x')\n",
    "ax.set_ylabel('y')\n",
    "ax.set_title('title')\n",
    "ax.set_xlim([0,6])\n",
    "ax.set_ylim([0,50])\n",
    "ax.legend()"
   ]
  },
  {
   "cell_type": "markdown",
   "metadata": {
    "slideshow": {
     "slide_type": "subslide"
    }
   },
   "source": [
    "### Multiple plotting areas"
   ]
  },
  {
   "cell_type": "code",
   "execution_count": null,
   "metadata": {},
   "outputs": [],
   "source": [
    "'Subplot (%d,%d)'%(234,5455)"
   ]
  },
  {
   "cell_type": "code",
   "execution_count": null,
   "metadata": {
    "scrolled": true,
    "slideshow": {
     "slide_type": "-"
    }
   },
   "outputs": [],
   "source": [
    "fig, axes = plt.subplots(2,3) # define figure with 2 by 3 plotting areas (subplots)\n",
    "axes[0,0].plot([1,2,3,4],[20,15,25,30],color='r',marker='o',linestyle ='-.', label='Red team')\n",
    "axes[1,0].plot([1,2,3,4],[16,21,35,23],color='b',marker='x',linestyle ='--', label='Blue team')\n",
    "\n",
    "for i in range(2):\n",
    "    for j in range(3):\n",
    "        axes[i,j].set_title('Subplot (%d,%d)'%(i,j))"
   ]
  },
  {
   "cell_type": "markdown",
   "metadata": {
    "slideshow": {
     "slide_type": "subslide"
    }
   },
   "source": [
    "### Multiple plotting areas - cont."
   ]
  },
  {
   "cell_type": "code",
   "execution_count": null,
   "metadata": {
    "scrolled": true,
    "slideshow": {
     "slide_type": "-"
    }
   },
   "outputs": [],
   "source": [
    "fig, axes = plt.subplots(2,3, figsize=(8, 6), dpi=600)#resolution 600 dots per range\n",
    "# figure size in inches\n",
    "axes[0,0].plot([1,2,3,4],[20,15,25,30],color='r',marker='o',linestyle ='-.', label='Red team')\n",
    "axes[1,0].plot([1,2,3,4],[16,21,35,23],color='b',marker='x',linestyle ='--', label='Blue team')\n",
    "for i in range(2):\n",
    "    for j in range(3):\n",
    "        axes[i,j].set_title('Subplot (%d,%d)'%(i,j))\n",
    "        axes[i,j].set_xticks([])\n",
    "        axes[i,j].set_yticks([])      \n",
    "fig.suptitle('Figure Title')\n",
    "fig.tight_layout(pad=2, h_pad=1, w_pad=3)"
   ]
  },
  {
   "cell_type": "markdown",
   "metadata": {
    "slideshow": {
     "slide_type": "slide"
    }
   },
   "source": [
    "# Exercise 1\n",
    "\n",
    "Plot the functions $f(x)=x^2$ and $g(x)=5x+20$ in the range $x\\in [-10,10]$\n",
    "![alt text](images/graph.png \"Areas under curves\")\n",
    "\n"
   ]
  },
  {
   "cell_type": "code",
   "execution_count": null,
   "metadata": {},
   "outputs": [],
   "source": [
    "fig, ax = plt.subplots()\n",
    "ax.plot([1,2,3,4],[20,15,25,30],color='r',marker='o',markersize=10,linestyle ='--', linewidth=5, label='Red team')\n",
    "ax.set_xlabel('x')\n",
    "ax.set_ylabel('y')\n",
    "ax.set_title('title')\n",
    "ax.set_xlim([0,7])\n",
    "ax.set_ylim([0,50])\n",
    "ax.set_xticks([1,2,3,4])\n",
    "ax.set_xticklabels(['A','B','C','D'])\n",
    "ax.legend()"
   ]
  },
  {
   "cell_type": "code",
   "execution_count": null,
   "metadata": {},
   "outputs": [],
   "source": [
    "fig, ax = plt.subplots()\n",
    "x=np.arange(-10,10,0.1)\n",
    "ax.plot(x,x**2,color='g',label=\"f (x)\")\n",
    "ax.plot(x,5*x+20,color='b',label='g (x)')\n",
    "ax.set_xlabel('x')\n",
    "ax.set_ylabel('y')\n",
    "ax.set_xlim([-10,10])\n",
    "ax.legend()#加了label一定要加legend：显示图例"
   ]
  },
  {
   "cell_type": "code",
   "execution_count": null,
   "metadata": {
    "slideshow": {
     "slide_type": "-"
    }
   },
   "outputs": [],
   "source": [
    "# write solution here\n",
    "x=np.arange(-10,11,1)\n",
    "fig,ax=plt.subplots(figsize=(6,6))\n",
    "ax.plot(x,5*x+20,color='red',label='f(x)')\n",
    "ax.plot(x,x**2,color='blue',label='g(x)')\n",
    "ax.set_xlim([-10,10])\n",
    "ax.set_title('Exercise1')\n",
    "ax.legend()"
   ]
  },
  {
   "cell_type": "code",
   "execution_count": null,
   "metadata": {
    "scrolled": false,
    "slideshow": {
     "slide_type": "subslide"
    }
   },
   "outputs": [],
   "source": [
    "# solution\n",
    "x = np.arange(-10,10,0.1)\n",
    "f = x**2\n",
    "g = 5*x+20\n",
    "fig, ax = plt.subplots()\n",
    "ax.plot(x,f,label='f')\n",
    "ax.plot(x,g,label='g')\n",
    "ax.legend()"
   ]
  },
  {
   "cell_type": "markdown",
   "metadata": {
    "slideshow": {
     "slide_type": "slide"
    }
   },
   "source": [
    "# Visualization\n",
    "\n",
    "Today: basic data visualization in Python \n",
    "1. Matplotlib\n",
    "2. __Matplotlib - PyPlot__\n",
    "3. Pandas\n",
    "4. Basic Image Manipulation with NumPy\n",
    "5. Interactive Tools\n",
    "6. Other packages\n"
   ]
  },
  {
   "cell_type": "markdown",
   "metadata": {
    "slideshow": {
     "slide_type": "subslide"
    }
   },
   "source": [
    "# (2) Matplotlib - Pyplot\n",
    "* Matlab-like interface to matplotlib\n",
    "* Allows running one-line plot commands\n",
    "* plt.figure() - creates a figure and assigns a numeric identifier to it\n",
    "* plt.figure(i) - change the active figure to figure $i$\t\t\n",
    "* plt.gcf() - returns current figure\n",
    "* plt.gca() - returns current axis of the current figure\n",
    "* plt.get_fignums() - returns the list of active figures identifiers\n",
    "* fig.get_axes() - returns all axes of a given figure\n",
    "* In jupyter, all figures are displayed and deleted from memory after the execution of each cell\n",
    "* In Python, one must show ( plt.show()) and close ( plt.close()) figures to display and close them \n"
   ]
  },
  {
   "cell_type": "markdown",
   "metadata": {
    "slideshow": {
     "slide_type": "subslide"
    }
   },
   "source": [
    "## PyPlot"
   ]
  },
  {
   "cell_type": "code",
   "execution_count": null,
   "metadata": {
    "slideshow": {
     "slide_type": "-"
    }
   },
   "outputs": [],
   "source": [
    "plt.plot([1,3,2,4])"
   ]
  },
  {
   "cell_type": "code",
   "execution_count": null,
   "metadata": {},
   "outputs": [],
   "source": [
    "plt.plot([1,3,2,4],[1,2,3,4]);"
   ]
  },
  {
   "cell_type": "markdown",
   "metadata": {
    "slideshow": {
     "slide_type": "fragment"
    }
   },
   "source": [
    "What happened when we ran \"plt.plot([1,3,2,4])\": \n",
    "1. A figure with a single ax was created\n",
    "2. A curve was plotted on the ax\n",
    "3. The figure was displayed\n",
    "4. The figure was removed from memory"
   ]
  },
  {
   "cell_type": "markdown",
   "metadata": {
    "slideshow": {
     "slide_type": "subslide"
    }
   },
   "source": [
    "### PyPlot - cont."
   ]
  },
  {
   "cell_type": "code",
   "execution_count": null,
   "metadata": {
    "slideshow": {
     "slide_type": "-"
    }
   },
   "outputs": [],
   "source": [
    "print('active figures:', plt.get_fignums())\n",
    "\n",
    "plt.figure()\n",
    "plt.plot([1,3,2,4])\n",
    "print('active figures:', plt.get_fignums())\n",
    "\n",
    "plt.figure()\n",
    "plt.plot([10,50,7,32])\n",
    "print('active figures:', plt.get_fignums())"
   ]
  },
  {
   "cell_type": "code",
   "execution_count": null,
   "metadata": {
    "slideshow": {
     "slide_type": "fragment"
    }
   },
   "outputs": [],
   "source": [
    "plt.get_fignums()"
   ]
  },
  {
   "cell_type": "markdown",
   "metadata": {
    "slideshow": {
     "slide_type": "subslide"
    }
   },
   "source": [
    "### PyPlot - cont."
   ]
  },
  {
   "cell_type": "code",
   "execution_count": null,
   "metadata": {
    "slideshow": {
     "slide_type": "fragment"
    }
   },
   "outputs": [],
   "source": [
    "plt.figure()    # create new figure and set it as current\n",
    "fig = plt.gcf() # gcf: get current figure\n",
    "ax = plt.gca()  # gca: get current axis\n",
    "ax.plot([1,5,2,3])"
   ]
  },
  {
   "cell_type": "markdown",
   "metadata": {
    "slideshow": {
     "slide_type": "subslide"
    }
   },
   "source": [
    "## Plot types"
   ]
  },
  {
   "cell_type": "markdown",
   "metadata": {
    "slideshow": {
     "slide_type": "subslide"
    }
   },
   "source": [
    "### Barplot\n",
    "Source: http://matplotlib.org/examples/lines_bars_and_markers/barh_demo.html"
   ]
  },
  {
   "cell_type": "code",
   "execution_count": null,
   "metadata": {},
   "outputs": [],
   "source": []
  },
  {
   "cell_type": "code",
   "execution_count": null,
   "metadata": {
    "slideshow": {
     "slide_type": "fragment"
    }
   },
   "outputs": [],
   "source": [
    "people = ['Tom', 'Dick', 'Harry', 'Slim', 'Jim']\n",
    "performance = [8,9,15,5,10]\n",
    "error = [1,2,4,1,2]\n",
    "\n",
    "plt.bar(range(len(people)), performance, yerr=error, align='center', alpha=0.3)\n",
    "plt.xticks(range(len(people)), people)\n",
    "pass\n",
    "#alpha:透明度\n",
    "#pass:不显示任何东西"
   ]
  },
  {
   "cell_type": "code",
   "execution_count": null,
   "metadata": {},
   "outputs": [],
   "source": [
    "people = ['Tom', 'Dick', 'Harry', 'Slim', 'Jim']\n",
    "performance = [8,9,15,5,10]\n",
    "error = [1,2,4,1,2]\n",
    "\n",
    "plt.bar(range(len(people)), performance, yerr=error, align='center', alpha=0.3)\n",
    "plt.xticks(range(len(people)), people)\n",
    "#pass"
   ]
  },
  {
   "cell_type": "markdown",
   "metadata": {
    "slideshow": {
     "slide_type": "subslide"
    }
   },
   "source": [
    "### Scatter plot\n",
    "Source: http://matplotlib.org/examples/shapes_and_collections/scatter_demo.html"
   ]
  },
  {
   "cell_type": "code",
   "execution_count": null,
   "metadata": {
    "scrolled": true,
    "slideshow": {
     "slide_type": "fragment"
    }
   },
   "outputs": [],
   "source": [
    "N = 50\n",
    "x = np.random.rand(N)\n",
    "y = np.random.rand(N)\n",
    "plt.scatter(x, y)"
   ]
  },
  {
   "cell_type": "markdown",
   "metadata": {
    "slideshow": {
     "slide_type": "subslide"
    }
   },
   "source": [
    "### Scatter plot - cont.\n",
    "Source: http://matplotlib.org/examples/shapes_and_collections/scatter_demo.html"
   ]
  },
  {
   "cell_type": "code",
   "execution_count": null,
   "metadata": {
    "slideshow": {
     "slide_type": "fragment"
    }
   },
   "outputs": [],
   "source": [
    "N = 50\n",
    "x = np.random.rand(N)\n",
    "y = np.random.rand(N)\n",
    "colors = np.random.rand(N)                     # number between 0-1\n",
    "area = np.pi * (15 * np.random.rand(N))**2     # number between 0-15; specifies marker size \n",
    "\n",
    "plt.scatter(x, y, s=area, c=colors, alpha=0.5) # default colormap for floating point number colors"
   ]
  },
  {
   "cell_type": "markdown",
   "metadata": {
    "slideshow": {
     "slide_type": "slide"
    }
   },
   "source": [
    "## Matplotlib gallery\n",
    "http://matplotlib.org/gallery.html\n",
    "![alt text](http://matplotlib.org/_images/boxplot_vs_violin_demo.png \"Boxplots\")"
   ]
  },
  {
   "cell_type": "markdown",
   "metadata": {
    "slideshow": {
     "slide_type": "subslide"
    }
   },
   "source": [
    "## Matplotlib gallery - cont.\n",
    "http://matplotlib.org/gallery.html\n",
    "![alt text](http://matplotlib.org/_images/histogram_demo_features1.png \"Histogram\")\n"
   ]
  },
  {
   "cell_type": "markdown",
   "metadata": {
    "slideshow": {
     "slide_type": "subslide"
    }
   },
   "source": [
    "## Matplotlib gallery - cont.\n",
    "http://matplotlib.org/gallery.html\n",
    "![alt text](http://matplotlib.org/_images/pie_demo_features_00.png \"Pie chart\")\n"
   ]
  },
  {
   "cell_type": "markdown",
   "metadata": {
    "slideshow": {
     "slide_type": "subslide"
    }
   },
   "source": [
    "## Matplotlib gallery - cont.\n",
    "http://matplotlib.org/gallery.html\n",
    "![alt text](http://matplotlib.org/_images/polar_scatter_demo.png \"Polar chart\")\n",
    "Multidimensional data"
   ]
  },
  {
   "cell_type": "markdown",
   "metadata": {
    "slideshow": {
     "slide_type": "subslide"
    }
   },
   "source": [
    "## Matplotlib gallery - cont.\n",
    "http://matplotlib.org/gallery.html\n",
    "![alt text](http://matplotlib.org/_images/integral_demo.png \"Areas under curves\")\n"
   ]
  },
  {
   "cell_type": "markdown",
   "metadata": {
    "slideshow": {
     "slide_type": "subslide"
    }
   },
   "source": [
    "## Matplotlib gallery - cont.\n",
    "http://matplotlib.org/gallery.html\n",
    "![alt text](http://matplotlib.org/_images/surface3d_demo.png \"3D\")\n"
   ]
  },
  {
   "cell_type": "markdown",
   "metadata": {
    "slideshow": {
     "slide_type": "slide"
    }
   },
   "source": [
    "# Visualization\n",
    "\n",
    "Today: basic data visualization in Python \n",
    "1. Matplotlib\n",
    "2. Matplotlib - PyPlot\n",
    "3. __Pandas__\n",
    "4. Basic Image Manipulation with NumPy\n",
    "5. Interactive Tools\n",
    "6. Other packages\n"
   ]
  },
  {
   "cell_type": "markdown",
   "metadata": {
    "slideshow": {
     "slide_type": "subslide"
    }
   },
   "source": [
    "# (3) Plotting with Pandas\n",
    "* Simple interface to matplotlib\n",
    "* Uses index and column names to generate labels automatically\t\t\n",
    "* Plot series $s$ on a given axis:  s.plot(ax=axis)\n",
    "* One-liner:  s.plot()\n",
    "* Plot dataframe: df.plot(kind='bar'), df.plot.bar()\n",
    "* barplots, histogram, boxplots, area plots, scatter plots, pie charts, ... \n",
    "* [Online documentation](http://pandas.pydata.org/pandas-docs/version/0.18.1/visualization.html)"
   ]
  },
  {
   "cell_type": "markdown",
   "metadata": {
    "slideshow": {
     "slide_type": "subslide"
    }
   },
   "source": [
    "### Plotting with Pandas"
   ]
  },
  {
   "cell_type": "code",
   "execution_count": null,
   "metadata": {
    "slideshow": {
     "slide_type": "-"
    }
   },
   "outputs": [],
   "source": [
    "import pandas as pd\n",
    "import numpy as np"
   ]
  },
  {
   "cell_type": "code",
   "execution_count": null,
   "metadata": {},
   "outputs": [],
   "source": [
    "a = [1,2,3,4]\n",
    "np.array(a).cumsum()"
   ]
  },
  {
   "cell_type": "code",
   "execution_count": null,
   "metadata": {},
   "outputs": [],
   "source": [
    "np.random.normal(loc=0,scale=3,size=N).cumsum()"
   ]
  },
  {
   "cell_type": "code",
   "execution_count": null,
   "metadata": {
    "slideshow": {
     "slide_type": "fragment"
    }
   },
   "outputs": [],
   "source": [
    "# 3 random series \n",
    "N = 365\n",
    "s1 = pd.Series(100+np.random.normal(loc=0,scale=3,size=N).cumsum())\n",
    "s2 = pd.Series(120+np.random.normal(loc=0,scale=3,size=N).cumsum())\n",
    "s3 = pd.Series(80+np.random.normal(loc=0,scale=3,size=N).cumsum())\n",
    "s4 = pd.Series(130+np.random.normal(loc=0,scale=3,size=N).cumsum())\n",
    "\n",
    "df = pd.DataFrame({'A':s1,'B':s2,'C':s3,'D':s4})\n",
    "df.head()"
   ]
  },
  {
   "cell_type": "markdown",
   "metadata": {
    "slideshow": {
     "slide_type": "subslide"
    }
   },
   "source": [
    "### Plotting Series"
   ]
  },
  {
   "cell_type": "code",
   "execution_count": null,
   "metadata": {
    "slideshow": {
     "slide_type": "fragment"
    }
   },
   "outputs": [],
   "source": [
    "fig,axis = plt.subplots()\n",
    "s1.plot(ax=axis)"
   ]
  },
  {
   "cell_type": "markdown",
   "metadata": {
    "slideshow": {
     "slide_type": "subslide"
    }
   },
   "source": [
    "### Plotting Series - cont."
   ]
  },
  {
   "cell_type": "code",
   "execution_count": null,
   "metadata": {
    "slideshow": {
     "slide_type": "fragment"
    }
   },
   "outputs": [],
   "source": [
    "s1.plot() "
   ]
  },
  {
   "cell_type": "markdown",
   "metadata": {
    "slideshow": {
     "slide_type": "subslide"
    }
   },
   "source": [
    "### Plotting Series  - cont."
   ]
  },
  {
   "cell_type": "code",
   "execution_count": null,
   "metadata": {
    "slideshow": {
     "slide_type": "fragment"
    }
   },
   "outputs": [],
   "source": [
    "s1.plot(figsize=(4,4),title='Title')"
   ]
  },
  {
   "cell_type": "markdown",
   "metadata": {
    "slideshow": {
     "slide_type": "subslide"
    }
   },
   "source": [
    "### Plotting DataFrames"
   ]
  },
  {
   "cell_type": "code",
   "execution_count": null,
   "metadata": {
    "slideshow": {
     "slide_type": "fragment"
    }
   },
   "outputs": [],
   "source": [
    "df.head(2)"
   ]
  },
  {
   "cell_type": "code",
   "execution_count": null,
   "metadata": {
    "slideshow": {
     "slide_type": "fragment"
    }
   },
   "outputs": [],
   "source": [
    "df.index = pd.date_range('2015/1/1','2015/12/31') # http://pandas.pydata.org/pandas-docs/stable/generated/pandas.date_range.html\n",
    "df.head(3)"
   ]
  },
  {
   "cell_type": "code",
   "execution_count": null,
   "metadata": {
    "slideshow": {
     "slide_type": "fragment"
    }
   },
   "outputs": [],
   "source": [
    "df.plot()\n",
    "#plt.gca().legend(loc=1) # http://matplotlib.org/api/pyplot_api.html#matplotlib.pyplot.legend"
   ]
  },
  {
   "cell_type": "markdown",
   "metadata": {
    "slideshow": {
     "slide_type": "subslide"
    }
   },
   "source": [
    "### Barplot"
   ]
  },
  {
   "cell_type": "code",
   "execution_count": null,
   "metadata": {
    "slideshow": {
     "slide_type": "fragment"
    }
   },
   "outputs": [],
   "source": [
    "df.iloc[[0,-1],:]"
   ]
  },
  {
   "cell_type": "code",
   "execution_count": null,
   "metadata": {
    "slideshow": {
     "slide_type": "fragment"
    }
   },
   "outputs": [],
   "source": [
    "prices_start = df.iloc[0]\n",
    "prices_end = df.iloc[-1]"
   ]
  },
  {
   "cell_type": "code",
   "execution_count": null,
   "metadata": {},
   "outputs": [],
   "source": [
    "prices_start"
   ]
  },
  {
   "cell_type": "code",
   "execution_count": null,
   "metadata": {
    "slideshow": {
     "slide_type": "fragment"
    }
   },
   "outputs": [],
   "source": [
    "prices_start.plot(kind='bar')"
   ]
  },
  {
   "cell_type": "markdown",
   "metadata": {
    "slideshow": {
     "slide_type": "subslide"
    }
   },
   "source": [
    "### Barplot - cont."
   ]
  },
  {
   "cell_type": "code",
   "execution_count": null,
   "metadata": {
    "slideshow": {
     "slide_type": "fragment"
    }
   },
   "outputs": [],
   "source": [
    "df.iloc[[0,-1]]"
   ]
  },
  {
   "cell_type": "code",
   "execution_count": null,
   "metadata": {
    "slideshow": {
     "slide_type": "fragment"
    }
   },
   "outputs": [],
   "source": [
    "df.iloc[[0,-1]].plot(kind='bar')"
   ]
  },
  {
   "cell_type": "markdown",
   "metadata": {
    "slideshow": {
     "slide_type": "subslide"
    }
   },
   "source": [
    "### Barplot - cont."
   ]
  },
  {
   "cell_type": "code",
   "execution_count": null,
   "metadata": {
    "slideshow": {
     "slide_type": "fragment"
    }
   },
   "outputs": [],
   "source": [
    "prices_end-prices_start"
   ]
  },
  {
   "cell_type": "code",
   "execution_count": null,
   "metadata": {
    "slideshow": {
     "slide_type": "fragment"
    }
   },
   "outputs": [],
   "source": [
    "(prices_end-prices_start).plot.bar()"
   ]
  },
  {
   "cell_type": "markdown",
   "metadata": {
    "slideshow": {
     "slide_type": "subslide"
    }
   },
   "source": [
    "### Barplot - cont."
   ]
  },
  {
   "cell_type": "code",
   "execution_count": null,
   "metadata": {
    "slideshow": {
     "slide_type": "-"
    }
   },
   "outputs": [],
   "source": [
    "((prices_end-prices_start)/prices_start*100).plot.bar()\n",
    "plt.gca().axhline(0,color='k')"
   ]
  },
  {
   "cell_type": "markdown",
   "metadata": {
    "slideshow": {
     "slide_type": "subslide"
    }
   },
   "source": [
    "### Pie chart"
   ]
  },
  {
   "cell_type": "code",
   "execution_count": null,
   "metadata": {
    "slideshow": {
     "slide_type": "fragment"
    }
   },
   "outputs": [],
   "source": [
    "s = pd.Series([0.1,0.2,0.2,0.5],index=list('WXYZ'),name='Protfolio')\n",
    "print(s)"
   ]
  },
  {
   "cell_type": "code",
   "execution_count": null,
   "metadata": {
    "slideshow": {
     "slide_type": "fragment"
    }
   },
   "outputs": [],
   "source": [
    "s.plot.pie()"
   ]
  },
  {
   "cell_type": "markdown",
   "metadata": {
    "slideshow": {
     "slide_type": "subslide"
    }
   },
   "source": [
    "### Pie chart - cont."
   ]
  },
  {
   "cell_type": "code",
   "execution_count": null,
   "metadata": {
    "slideshow": {
     "slide_type": "-"
    }
   },
   "outputs": [],
   "source": [
    "s.plot.pie(figsize=(5,5))"
   ]
  },
  {
   "cell_type": "markdown",
   "metadata": {
    "slideshow": {
     "slide_type": "subslide"
    }
   },
   "source": [
    "### Histogram"
   ]
  },
  {
   "cell_type": "code",
   "execution_count": null,
   "metadata": {
    "slideshow": {
     "slide_type": "-"
    }
   },
   "outputs": [],
   "source": [
    "x = np.random.randn(1000)\n",
    "s = pd.Series(x)"
   ]
  },
  {
   "cell_type": "code",
   "execution_count": null,
   "metadata": {
    "slideshow": {
     "slide_type": "fragment"
    }
   },
   "outputs": [],
   "source": [
    "s.plot.hist()"
   ]
  },
  {
   "cell_type": "markdown",
   "metadata": {
    "slideshow": {
     "slide_type": "subslide"
    }
   },
   "source": [
    "### Histogram - cont."
   ]
  },
  {
   "cell_type": "code",
   "execution_count": null,
   "metadata": {
    "slideshow": {
     "slide_type": "-"
    }
   },
   "outputs": [],
   "source": [
    "s.plot.hist(bins=50)"
   ]
  },
  {
   "cell_type": "markdown",
   "metadata": {
    "slideshow": {
     "slide_type": "subslide"
    }
   },
   "source": [
    "### Histogram - cont."
   ]
  },
  {
   "cell_type": "code",
   "execution_count": null,
   "metadata": {
    "slideshow": {
     "slide_type": "-"
    }
   },
   "outputs": [],
   "source": [
    "s.plot.hist(bins=50, cumulative=True)"
   ]
  },
  {
   "cell_type": "markdown",
   "metadata": {
    "slideshow": {
     "slide_type": "subslide"
    }
   },
   "source": [
    "### Histogram - cont."
   ]
  },
  {
   "cell_type": "code",
   "execution_count": null,
   "metadata": {
    "slideshow": {
     "slide_type": "-"
    }
   },
   "outputs": [],
   "source": [
    "df2 = pd.DataFrame({'X':np.random.randn(1000),'Y':np.random.randn(1000)+3})"
   ]
  },
  {
   "cell_type": "code",
   "execution_count": null,
   "metadata": {
    "slideshow": {
     "slide_type": "-"
    }
   },
   "outputs": [],
   "source": [
    "# multiple columns on the same plot\n",
    "df2.plot.hist()"
   ]
  },
  {
   "cell_type": "markdown",
   "metadata": {
    "slideshow": {
     "slide_type": "subslide"
    }
   },
   "source": [
    "### Histogram - cont."
   ]
  },
  {
   "cell_type": "code",
   "execution_count": null,
   "metadata": {
    "slideshow": {
     "slide_type": "-"
    }
   },
   "outputs": [],
   "source": [
    "df2.plot.hist(alpha=0.3)"
   ]
  },
  {
   "cell_type": "markdown",
   "metadata": {
    "slideshow": {
     "slide_type": "subslide"
    }
   },
   "source": [
    "### Histogram - cont."
   ]
  },
  {
   "cell_type": "code",
   "execution_count": null,
   "metadata": {
    "slideshow": {
     "slide_type": "-"
    }
   },
   "outputs": [],
   "source": [
    "df2.plot.hist(alpha=0.2,stacked=True)"
   ]
  },
  {
   "cell_type": "markdown",
   "metadata": {
    "slideshow": {
     "slide_type": "subslide"
    }
   },
   "source": [
    "### Histogram - cont."
   ]
  },
  {
   "cell_type": "code",
   "execution_count": null,
   "metadata": {},
   "outputs": [],
   "source": [
    "# separate plots for columns\n",
    "df2.hist()\n",
    "pass"
   ]
  },
  {
   "cell_type": "markdown",
   "metadata": {
    "slideshow": {
     "slide_type": "subslide"
    }
   },
   "source": [
    "### Histogram - cont."
   ]
  },
  {
   "cell_type": "code",
   "execution_count": null,
   "metadata": {
    "slideshow": {
     "slide_type": "-"
    }
   },
   "outputs": [],
   "source": [
    "df2.head(2)"
   ]
  },
  {
   "cell_type": "code",
   "execution_count": null,
   "metadata": {
    "scrolled": true,
    "slideshow": {
     "slide_type": "-"
    }
   },
   "outputs": [],
   "source": [
    "df2['gender']=np.random.choice(['M','F'], 1000)\n",
    "df2.head(3)"
   ]
  },
  {
   "cell_type": "markdown",
   "metadata": {
    "slideshow": {
     "slide_type": "subslide"
    }
   },
   "source": [
    "### Histogram - cont."
   ]
  },
  {
   "cell_type": "code",
   "execution_count": null,
   "metadata": {
    "scrolled": true,
    "slideshow": {
     "slide_type": "-"
    }
   },
   "outputs": [],
   "source": [
    "# separate histograms according to the column 'gender'\n",
    "df2.hist(by='gender')"
   ]
  },
  {
   "cell_type": "markdown",
   "metadata": {
    "slideshow": {
     "slide_type": "subslide"
    }
   },
   "source": [
    "### Histogram - cont."
   ]
  },
  {
   "cell_type": "code",
   "execution_count": null,
   "metadata": {
    "slideshow": {
     "slide_type": "-"
    }
   },
   "outputs": [],
   "source": [
    "# split data by column\n",
    "for g,d in df2.groupby('gender'):\n",
    "    d.plot.hist(alpha=0.4, title=g)"
   ]
  },
  {
   "cell_type": "markdown",
   "metadata": {
    "slideshow": {
     "slide_type": "subslide"
    }
   },
   "source": [
    "### Histogram - cont."
   ]
  },
  {
   "cell_type": "code",
   "execution_count": null,
   "metadata": {
    "slideshow": {
     "slide_type": "-"
    }
   },
   "outputs": [],
   "source": [
    "df2.groupby('gender').hist()"
   ]
  },
  {
   "cell_type": "markdown",
   "metadata": {
    "slideshow": {
     "slide_type": "subslide"
    }
   },
   "source": [
    "### Boxplot"
   ]
  },
  {
   "cell_type": "code",
   "execution_count": null,
   "metadata": {
    "slideshow": {
     "slide_type": "-"
    }
   },
   "outputs": [],
   "source": [
    "df2.plot.box()"
   ]
  },
  {
   "cell_type": "markdown",
   "metadata": {
    "slideshow": {
     "slide_type": "subslide"
    }
   },
   "source": [
    "### Boxplot - cont."
   ]
  },
  {
   "cell_type": "code",
   "execution_count": null,
   "metadata": {
    "slideshow": {
     "slide_type": "-"
    }
   },
   "outputs": [],
   "source": [
    "df2.boxplot(by='gender')"
   ]
  },
  {
   "cell_type": "markdown",
   "metadata": {
    "slideshow": {
     "slide_type": "subslide"
    }
   },
   "source": [
    "### Boxplot - cont."
   ]
  },
  {
   "cell_type": "code",
   "execution_count": null,
   "metadata": {
    "scrolled": true,
    "slideshow": {
     "slide_type": "-"
    }
   },
   "outputs": [],
   "source": [
    "df2.groupby('gender').boxplot()\n",
    "pass"
   ]
  },
  {
   "cell_type": "markdown",
   "metadata": {
    "slideshow": {
     "slide_type": "subslide"
    }
   },
   "source": [
    "### Scatter plot"
   ]
  },
  {
   "cell_type": "code",
   "execution_count": null,
   "metadata": {
    "scrolled": true,
    "slideshow": {
     "slide_type": "-"
    }
   },
   "outputs": [],
   "source": [
    "df.plot.scatter(x='A', y='B')"
   ]
  },
  {
   "cell_type": "markdown",
   "metadata": {
    "slideshow": {
     "slide_type": "subslide"
    }
   },
   "source": [
    "### Scatter Matrix "
   ]
  },
  {
   "cell_type": "code",
   "execution_count": null,
   "metadata": {
    "slideshow": {
     "slide_type": "fragment"
    }
   },
   "outputs": [],
   "source": [
    "from pandas.plotting import scatter_matrix"
   ]
  },
  {
   "cell_type": "code",
   "execution_count": null,
   "metadata": {
    "slideshow": {
     "slide_type": "fragment"
    }
   },
   "outputs": [],
   "source": [
    "scatter_matrix(df)\n",
    "pass"
   ]
  },
  {
   "cell_type": "markdown",
   "metadata": {
    "slideshow": {
     "slide_type": "subslide"
    }
   },
   "source": [
    "### Scatter Matrix "
   ]
  },
  {
   "cell_type": "code",
   "execution_count": null,
   "metadata": {
    "scrolled": false,
    "slideshow": {
     "slide_type": "fragment"
    }
   },
   "outputs": [],
   "source": [
    "x = scatter_matrix(df, alpha=0.2, figsize=(6, 6), diagonal='kde')"
   ]
  },
  {
   "cell_type": "markdown",
   "metadata": {},
   "source": [
    "exercise2\n",
    "import anscombe\n",
    "1.load the data and print the first 3 rows\n",
    "2.compute the mean and std of each column\n",
    "3.compute the correlation between the series xi,yi for i = 1,2,3,4\n",
    "4.create a figure with 4 areas, each showing a scatter plot of yi and xi for i = 1,2,3,4"
   ]
  },
  {
   "cell_type": "code",
   "execution_count": null,
   "metadata": {},
   "outputs": [],
   "source": [
    "import pandas as pd\n",
    "data=pd.read_csv('data/Anscombe.csv')\n",
    "data.head(3)\n",
    "#导入在文件夹中的csv"
   ]
  },
  {
   "cell_type": "code",
   "execution_count": null,
   "metadata": {},
   "outputs": [],
   "source": [
    "data.mean()"
   ]
  },
  {
   "cell_type": "code",
   "execution_count": null,
   "metadata": {},
   "outputs": [],
   "source": [
    "data.std()"
   ]
  },
  {
   "cell_type": "code",
   "execution_count": null,
   "metadata": {
    "scrolled": true
   },
   "outputs": [],
   "source": [
    "data.corr()"
   ]
  },
  {
   "cell_type": "code",
   "execution_count": null,
   "metadata": {},
   "outputs": [],
   "source": [
    "fig, axes = plt.subplots(2,3) # define figure with 2 by 3 plotting areas (subplots)\n",
    "axes[0,0].plot([1,2,3,4],[20,15,25,30],color='r',marker='o',linestyle ='-.', label='Red team')\n",
    "axes[1,0].plot([1,2,3,4],[16,21,35,23],color='b',marker='x',linestyle ='--', label='Blue team')\n",
    "\n",
    "for i in range(2):\n",
    "    for j in range(3):\n",
    "        axes[i,j].set_title('Subplot (%d,%d)'%(i,j))"
   ]
  },
  {
   "cell_type": "code",
   "execution_count": null,
   "metadata": {},
   "outputs": [],
   "source": [
    "fig, axes = plt.subplots(2,2)\n"
   ]
  },
  {
   "cell_type": "code",
   "execution_count": null,
   "metadata": {},
   "outputs": [],
   "source": []
  },
  {
   "cell_type": "code",
   "execution_count": null,
   "metadata": {},
   "outputs": [],
   "source": []
  },
  {
   "cell_type": "code",
   "execution_count": null,
   "metadata": {
    "slideshow": {
     "slide_type": "-"
    }
   },
   "outputs": [],
   "source": [
    "# write solution here\n",
    "\n",
    "import pandas as pd\n",
    "data=pd.read_csv('data/Anscombe.csv')\n",
    "data.head(3)"
   ]
  },
  {
   "cell_type": "code",
   "execution_count": null,
   "metadata": {},
   "outputs": [],
   "source": [
    "data.std()"
   ]
  },
  {
   "cell_type": "code",
   "execution_count": null,
   "metadata": {},
   "outputs": [],
   "source": [
    "data.mean()"
   ]
  },
  {
   "cell_type": "code",
   "execution_count": null,
   "metadata": {},
   "outputs": [],
   "source": [
    "data.corr()"
   ]
  },
  {
   "cell_type": "markdown",
   "metadata": {
    "slideshow": {
     "slide_type": "subslide"
    }
   },
   "source": [
    "# Solution to Exercise 2"
   ]
  },
  {
   "cell_type": "code",
   "execution_count": null,
   "metadata": {
    "scrolled": true,
    "slideshow": {
     "slide_type": "-"
    }
   },
   "outputs": [],
   "source": [
    "# 1. load data\n",
    "df = pd.read_csv('data/Anscombe.csv')\n",
    "df.head(3)"
   ]
  },
  {
   "cell_type": "code",
   "execution_count": null,
   "metadata": {
    "slideshow": {
     "slide_type": "fragment"
    }
   },
   "outputs": [],
   "source": [
    "# 2. compute mean and standard deviation of each column\n",
    "df.describe()"
   ]
  },
  {
   "cell_type": "markdown",
   "metadata": {
    "slideshow": {
     "slide_type": "subslide"
    }
   },
   "source": [
    "# Solution to Exercise 2 - cont."
   ]
  },
  {
   "cell_type": "code",
   "execution_count": null,
   "metadata": {
    "slideshow": {
     "slide_type": "-"
    }
   },
   "outputs": [],
   "source": [
    "# 3. compute correlations between columns\n",
    "df.corr()"
   ]
  },
  {
   "cell_type": "markdown",
   "metadata": {
    "slideshow": {
     "slide_type": "subslide"
    }
   },
   "source": [
    "# Solution to Exercise 2 - cont."
   ]
  },
  {
   "cell_type": "code",
   "execution_count": null,
   "metadata": {
    "scrolled": true,
    "slideshow": {
     "slide_type": "-"
    }
   },
   "outputs": [],
   "source": [
    "# 4. plot x_i vs y_i\n",
    "fig, axes = plt.subplots(2,2, figsize=(8, 6))\n",
    "df.plot.scatter(x='x1',y='y1',ax=axes[0,0])\n",
    "df.plot.scatter(x='x2',y='y2',ax=axes[0,1])\n",
    "df.plot.scatter(x='x3',y='y3',ax=axes[1,0])\n",
    "df.plot.scatter(x='x4',y='y4',ax=axes[1,1])\n",
    "plt.tight_layout()"
   ]
  },
  {
   "cell_type": "markdown",
   "metadata": {
    "slideshow": {
     "slide_type": "slide"
    }
   },
   "source": [
    "# Visualization\n",
    "\n",
    "Today: basic data visualization in Python \n",
    "1. Matplotlib\n",
    "2. Matplotlib - PyPlot\n",
    "3. Pandas\n",
    "4. __Basic Image Manipulation with NumPy__\n",
    "5. Interactive Tools\n",
    "6. Other packages\n"
   ]
  },
  {
   "cell_type": "markdown",
   "metadata": {
    "slideshow": {
     "slide_type": "subslide"
    }
   },
   "source": [
    "# (4) Basic Image Manipulation with NumPy\n",
    "\n",
    "* Common source of data\n",
    "* important to understand its structure\n",
    "<center>\n",
    "<img src=\"images/rabbit.png\" style=\"width: 15%;\"  />\n",
    "Image source: https://coloradohrs.org/\n",
    "</center>"
   ]
  },
  {
   "cell_type": "markdown",
   "metadata": {
    "slideshow": {
     "slide_type": "fragment"
    }
   },
   "source": [
    "Representation\n",
    "1. Pixel array (e.g., 790 by 786)\n",
    "2. Each pixel contains 3 number that represent color intensity (0-255)"
   ]
  },
  {
   "cell_type": "markdown",
   "metadata": {
    "slideshow": {
     "slide_type": "subslide"
    }
   },
   "source": [
    "## Representation\n",
    "1. Pixel array (e.g., 790 by 786)\n",
    "2. Each pixel contains 3 number that represent color intensity (0-255)"
   ]
  },
  {
   "cell_type": "markdown",
   "metadata": {
    "slideshow": {
     "slide_type": "fragment"
    }
   },
   "source": [
    "<img src=\"images/rgb.png\" style=\"width: 50%;\"  />\n"
   ]
  },
  {
   "cell_type": "markdown",
   "metadata": {
    "slideshow": {
     "slide_type": "subslide"
    }
   },
   "source": [
    "# Loading images"
   ]
  },
  {
   "cell_type": "code",
   "execution_count": null,
   "metadata": {
    "slideshow": {
     "slide_type": "fragment"
    }
   },
   "outputs": [],
   "source": [
    "import matplotlib.pyplot as plt\n",
    "import numpy as np\n",
    "%matplotlib inline"
   ]
  },
  {
   "cell_type": "code",
   "execution_count": null,
   "metadata": {},
   "outputs": [],
   "source": [
    "y = plt.imread('images/library.jpg') "
   ]
  },
  {
   "cell_type": "code",
   "execution_count": null,
   "metadata": {},
   "outputs": [],
   "source": [
    "plt.imshow(y)\n",
    "pass"
   ]
  },
  {
   "cell_type": "code",
   "execution_count": null,
   "metadata": {},
   "outputs": [],
   "source": [
    "y.shape"
   ]
  },
  {
   "cell_type": "code",
   "execution_count": null,
   "metadata": {},
   "outputs": [],
   "source": []
  },
  {
   "cell_type": "code",
   "execution_count": null,
   "metadata": {
    "slideshow": {
     "slide_type": "fragment"
    }
   },
   "outputs": [],
   "source": [
    "x = plt.imread('images/rabbit.png')  # conda install pillow"
   ]
  },
  {
   "cell_type": "code",
   "execution_count": null,
   "metadata": {},
   "outputs": [],
   "source": [
    "plt.imshow(x)\n",
    "pass"
   ]
  },
  {
   "cell_type": "code",
   "execution_count": null,
   "metadata": {},
   "outputs": [],
   "source": [
    "x"
   ]
  },
  {
   "cell_type": "code",
   "execution_count": null,
   "metadata": {
    "slideshow": {
     "slide_type": "fragment"
    }
   },
   "outputs": [],
   "source": [
    "type(x)"
   ]
  },
  {
   "cell_type": "code",
   "execution_count": null,
   "metadata": {
    "slideshow": {
     "slide_type": "fragment"
    }
   },
   "outputs": [],
   "source": [
    "x.shape\n",
    "#3:red,green,blue"
   ]
  },
  {
   "cell_type": "code",
   "execution_count": null,
   "metadata": {
    "slideshow": {
     "slide_type": "fragment"
    }
   },
   "outputs": [],
   "source": [
    "x[400,400,:]\n",
    "#显示（400，400）的颜色"
   ]
  },
  {
   "cell_type": "code",
   "execution_count": null,
   "metadata": {
    "slideshow": {
     "slide_type": "fragment"
    }
   },
   "outputs": [],
   "source": [
    "x.max()\n",
    "#白色？"
   ]
  },
  {
   "cell_type": "code",
   "execution_count": null,
   "metadata": {
    "slideshow": {
     "slide_type": "fragment"
    }
   },
   "outputs": [],
   "source": [
    "x.min()"
   ]
  },
  {
   "cell_type": "markdown",
   "metadata": {
    "slideshow": {
     "slide_type": "subslide"
    }
   },
   "source": [
    "# Loading images - cont."
   ]
  },
  {
   "cell_type": "code",
   "execution_count": null,
   "metadata": {
    "slideshow": {
     "slide_type": "-"
    }
   },
   "outputs": [],
   "source": [
    "len(x.flatten())"
   ]
  },
  {
   "cell_type": "code",
   "execution_count": null,
   "metadata": {
    "slideshow": {
     "slide_type": "fragment"
    }
   },
   "outputs": [],
   "source": [
    "plt.hist(x.flatten())\n",
    "pass"
   ]
  },
  {
   "cell_type": "markdown",
   "metadata": {
    "slideshow": {
     "slide_type": "subslide"
    }
   },
   "source": [
    "# Loading images - cont."
   ]
  },
  {
   "cell_type": "code",
   "execution_count": null,
   "metadata": {
    "slideshow": {
     "slide_type": "fragment"
    }
   },
   "outputs": [],
   "source": [
    "plt.imshow(x) # display a matrix"
   ]
  },
  {
   "cell_type": "markdown",
   "metadata": {
    "slideshow": {
     "slide_type": "subslide"
    }
   },
   "source": [
    "# Loading images - cont."
   ]
  },
  {
   "cell_type": "code",
   "execution_count": null,
   "metadata": {
    "slideshow": {
     "slide_type": "-"
    }
   },
   "outputs": [],
   "source": [
    "x_red = x.copy()\n",
    "x_red[:,:,1] = 0\n",
    "x_red[:,:,2] = 0"
   ]
  },
  {
   "cell_type": "code",
   "execution_count": null,
   "metadata": {
    "slideshow": {
     "slide_type": "fragment"
    }
   },
   "outputs": [],
   "source": [
    "plt.imshow(x_red)"
   ]
  },
  {
   "cell_type": "code",
   "execution_count": null,
   "metadata": {
    "slideshow": {
     "slide_type": "fragment"
    }
   },
   "outputs": [],
   "source": [
    "# may require update the package libpng; from terminal/command prompt run: conda update libpng\n",
    "plt.imsave('images/rabbit_red.png',x_red)"
   ]
  },
  {
   "cell_type": "code",
   "execution_count": null,
   "metadata": {
    "slideshow": {
     "slide_type": "fragment"
    }
   },
   "outputs": [],
   "source": [
    "!ls images"
   ]
  },
  {
   "cell_type": "markdown",
   "metadata": {
    "slideshow": {
     "slide_type": "subslide"
    }
   },
   "source": [
    "# Additional Resources\n",
    "* [Tutorial 1](http://www.scipy-lectures.org/advanced/image_processing/), [Tutorial 2](https://matplotlib.org/users/image_tutorial.html)\n",
    "* Tools: [OpenCV](https://docs.opencv.org), [scikit-image](http://scikit-image.org/), [Python Imaging Library](http://python-pillow.org/)"
   ]
  },
  {
   "cell_type": "markdown",
   "metadata": {
    "slideshow": {
     "slide_type": "slide"
    }
   },
   "source": [
    "# Exercise 3\n",
    "\n",
    "The file \"rabbit.png\" in the folder \"images\" contains a passport photo of your rabbit. Unfortunately, your nearest photo center only develops images of size 4\" by 6\", which means that developing the image as is will not have the desired result of a standard 2\" by 2\" photograph. \n",
    "\n",
    "Create a new image where the original photo is replicated twice horizontally and 3 times vertically so that developing the resulting image would perfectly fit 6 times in a 4\" by 6\" photograph. Save the image to the file 'rabbit_passport.png'.\n",
    "\n",
    "Input: <img src=\"images/rabbit.png\" width=\"10%\">\n",
    "\n",
    "Output: <img src=\"images/rabbit_passport.png\" width=\"20%\">"
   ]
  },
  {
   "cell_type": "code",
   "execution_count": null,
   "metadata": {
    "slideshow": {
     "slide_type": "-"
    }
   },
   "outputs": [],
   "source": [
    "rbt=plt.imread(\"images/rabbit.png\")\n",
    "rbt.shape\n",
    "new=rbt.copy()"
   ]
  },
  {
   "cell_type": "code",
   "execution_count": null,
   "metadata": {},
   "outputs": [],
   "source": []
  },
  {
   "cell_type": "code",
   "execution_count": null,
   "metadata": {},
   "outputs": [],
   "source": []
  },
  {
   "cell_type": "code",
   "execution_count": null,
   "metadata": {},
   "outputs": [],
   "source": []
  },
  {
   "cell_type": "code",
   "execution_count": null,
   "metadata": {},
   "outputs": [],
   "source": [
    "x = np.arange(10).reshape((5,2))\n",
    "y = np.arange(10,20).reshape((5,2))"
   ]
  },
  {
   "cell_type": "code",
   "execution_count": null,
   "metadata": {},
   "outputs": [],
   "source": [
    "z = np.concatenate([x,y],axis=0)\n",
    "z"
   ]
  },
  {
   "cell_type": "code",
   "execution_count": null,
   "metadata": {},
   "outputs": [],
   "source": [
    "rbt=plt.imread(\"images/rabbit.png\")\n",
    "plt.imshow(rbt)\n",
    "pass"
   ]
  },
  {
   "cell_type": "code",
   "execution_count": null,
   "metadata": {},
   "outputs": [],
   "source": [
    "type(rbt)"
   ]
  },
  {
   "cell_type": "code",
   "execution_count": null,
   "metadata": {},
   "outputs": [],
   "source": [
    "rabbit2by1 = np.concatenate([rbt, rbt],axis=0)\n",
    "plt.imshow(rabbit2by1)\n",
    "pass\n",
    "#axis=0,默认设置，垂直；axis=1，水平"
   ]
  },
  {
   "cell_type": "code",
   "execution_count": null,
   "metadata": {},
   "outputs": [],
   "source": [
    "rabbit3by2 = np.concatenate([rabbit2by1, rabbit2by1, rabbit2by1],axis=1)\n",
    "plt.imshow(rabbit3by2)\n",
    "pass"
   ]
  },
  {
   "cell_type": "code",
   "execution_count": null,
   "metadata": {},
   "outputs": [],
   "source": []
  },
  {
   "cell_type": "markdown",
   "metadata": {
    "slideshow": {
     "slide_type": "subslide"
    }
   },
   "source": [
    "# Solution to Exercise 3"
   ]
  },
  {
   "cell_type": "code",
   "execution_count": null,
   "metadata": {
    "slideshow": {
     "slide_type": "fragment"
    }
   },
   "outputs": [],
   "source": [
    "# original image\n",
    "img=plt.imread('images/rabbit.png')\n",
    "plt.imshow(img)\n",
    "img.shape"
   ]
  },
  {
   "cell_type": "markdown",
   "metadata": {
    "slideshow": {
     "slide_type": "subslide"
    }
   },
   "source": [
    "## Solution to Exercise 3 - cont."
   ]
  },
  {
   "cell_type": "code",
   "execution_count": null,
   "metadata": {
    "slideshow": {
     "slide_type": "fragment"
    }
   },
   "outputs": [],
   "source": [
    "rabbit2by1 = np.concatenate([img, img])\n",
    "plt.imshow(rabbit2by1)"
   ]
  },
  {
   "cell_type": "markdown",
   "metadata": {
    "slideshow": {
     "slide_type": "subslide"
    }
   },
   "source": [
    "## Solution to Exercise 3 - cont."
   ]
  },
  {
   "cell_type": "code",
   "execution_count": null,
   "metadata": {
    "scrolled": false,
    "slideshow": {
     "slide_type": "fragment"
    }
   },
   "outputs": [],
   "source": [
    "rabbit2by3 = np.concatenate([rabbit2by1, rabbit2by1, rabbit2by1],axis=1)\n",
    "plt.imshow(rabbit2by3)\n",
    "plt.imsave('images/rabbit_passport.png',rabbit2by3)\n",
    "rabbit2by3.shape"
   ]
  },
  {
   "cell_type": "markdown",
   "metadata": {
    "slideshow": {
     "slide_type": "slide"
    }
   },
   "source": [
    "# Visualization\n",
    "\n",
    "Today: basic data visualization in Python \n",
    "1. Matplotlib\n",
    "2. Matplotlib - PyPlot\n",
    "3. Pandas\n",
    "4. Basic Image Manipulation with NumPy\n",
    "5. __Interactive Tools__\n",
    "6. Other packages\n"
   ]
  },
  {
   "cell_type": "markdown",
   "metadata": {
    "slideshow": {
     "slide_type": "subslide"
    }
   },
   "source": [
    "# (5) Interactive Tools\n",
    "\n",
    "* Interactive tools for visualizing and interacting with data\n",
    "* https://github.com/jupyter-widgets/ipywidgets\n"
   ]
  },
  {
   "cell_type": "markdown",
   "metadata": {
    "slideshow": {
     "slide_type": "fragment"
    }
   },
   "source": [
    "### ipyleaflet and folium\n",
    "* Map visualization\n",
    "* installation: conda install -c conda-forge folium\n",
    "* Activation: jupyter nbextension enable vega --py --sys-prefix\n",
    "* Documentation: https://folium.readthedocs.io\n"
   ]
  },
  {
   "cell_type": "code",
   "execution_count": null,
   "metadata": {},
   "outputs": [],
   "source": [
    "pip install folium"
   ]
  },
  {
   "cell_type": "code",
   "execution_count": null,
   "metadata": {
    "slideshow": {
     "slide_type": "subslide"
    }
   },
   "outputs": [],
   "source": [
    "import folium\n",
    "map_osm = folium.Map(location=[43.127344, -77.631016], zoom_start=15)\n",
    "map_osm"
   ]
  },
  {
   "cell_type": "code",
   "execution_count": null,
   "metadata": {
    "slideshow": {
     "slide_type": "subslide"
    }
   },
   "outputs": [],
   "source": [
    "# add markers\n",
    "folium.Marker([43.124200, -77.625994], popup='Beginning').add_to(map_osm)\n",
    "folium.Marker([43.124670, -77.618133], popup='End').add_to(map_osm)\n",
    "map_osm"
   ]
  },
  {
   "cell_type": "markdown",
   "metadata": {
    "slideshow": {
     "slide_type": "subslide"
    }
   },
   "source": [
    "### bqplot\n",
    "* Interactive diagrams\n",
    "* Website: https://github.com/bloomberg/bqplot\n",
    "* Installation: conda install -c conda-forge bqplot\n",
    "<img src=\"images/bqplot-screencast.gif\" style=\"width: 80%;\"  />\n",
    "See https://github.com/bloomberg/bqplot/blob/master/examples/Applications/Wealth%20of%20Nations.ipynb for the complete Python code"
   ]
  },
  {
   "cell_type": "markdown",
   "metadata": {
    "slideshow": {
     "slide_type": "subslide"
    }
   },
   "source": [
    "### BeakerX\n",
    "* Interactive plots and dataframes\n",
    "* Website: http://beakerx.com/    \n",
    "* Tutorial: http://nbviewer.jupyter.org/github/twosigma/beakerx/blob/master/StartHere.ipynb\n",
    "* Installation: conda install -c conda-forge ipywidgets beakerx\n",
    "* Activation: jupyter nbextension enable beakerx --py --sys-prefix"
   ]
  },
  {
   "cell_type": "code",
   "execution_count": null,
   "metadata": {
    "scrolled": true,
    "slideshow": {
     "slide_type": "fragment"
    }
   },
   "outputs": [],
   "source": [
    "import pandas as pd\n",
    "df = pd.read_csv('data/Anscombe.csv')\n",
    "df"
   ]
  },
  {
   "cell_type": "markdown",
   "metadata": {
    "slideshow": {
     "slide_type": "subslide"
    }
   },
   "source": [
    "### BeakerX"
   ]
  },
  {
   "cell_type": "code",
   "execution_count": null,
   "metadata": {},
   "outputs": [],
   "source": [
    "pip install beakerx"
   ]
  },
  {
   "cell_type": "code",
   "execution_count": null,
   "metadata": {},
   "outputs": [],
   "source": [
    "from beakerx.object import beakerx\n",
    "#from beakerx import *"
   ]
  },
  {
   "cell_type": "code",
   "execution_count": null,
   "metadata": {
    "slideshow": {
     "slide_type": "fragment"
    }
   },
   "outputs": [],
   "source": [
    "df"
   ]
  },
  {
   "cell_type": "markdown",
   "metadata": {
    "slideshow": {
     "slide_type": "subslide"
    }
   },
   "source": [
    "### Interact\n",
    "\n",
    "* http://ipywidgets.readthedocs.io/en/stable/examples/Using%20Interact.html"
   ]
  },
  {
   "cell_type": "code",
   "execution_count": null,
   "metadata": {
    "slideshow": {
     "slide_type": "-"
    }
   },
   "outputs": [],
   "source": [
    "from ipywidgets import interact"
   ]
  },
  {
   "cell_type": "code",
   "execution_count": null,
   "metadata": {
    "slideshow": {
     "slide_type": "fragment"
    }
   },
   "outputs": [],
   "source": [
    "images = !ls images/*.png\n",
    "images"
   ]
  },
  {
   "cell_type": "markdown",
   "metadata": {
    "slideshow": {
     "slide_type": "subslide"
    }
   },
   "source": [
    "### Interact - cont."
   ]
  },
  {
   "cell_type": "code",
   "execution_count": null,
   "metadata": {
    "scrolled": true,
    "slideshow": {
     "slide_type": "fragment"
    }
   },
   "outputs": [],
   "source": [
    "# auxiliary function for the widget\n",
    "def display_digit(i):\n",
    "    image_location = images[i]\n",
    "    img=plt.imread(image_location)\n",
    "    plt.imshow(img)\n",
    "    plt.gca().set_title(image_location)\n",
    "    \n",
    "interact(display_digit, i=(0,len(images)-1)) "
   ]
  },
  {
   "cell_type": "markdown",
   "metadata": {
    "slideshow": {
     "slide_type": "fragment"
    }
   },
   "source": [
    "* Complete list of IPython widgets: [link](http://ipywidgets.readthedocs.io/en/stable/examples/Widget%20List.html)"
   ]
  },
  {
   "cell_type": "markdown",
   "metadata": {
    "slideshow": {
     "slide_type": "slide"
    }
   },
   "source": [
    "# (6) Other Libraries\n",
    "* Geospacial: [geoplotlib](https://github.com/andrea-cuttone/geoplotlib)\n",
    "* Networks: [NetworkX](https://networkx.github.io)\n",
    "* Interactive: [gleam](https://github.com/dgrtwo/gleam)\n",
    "* [Bokeh](http://bokeh.pydata.org/en/latest/docs/gallery.html)\n",
    "* [Seaborn](http://seaborn.pydata.org/examples/index.html)\n",
    "* [ggplot](http://ggplot.yhathq.com/)\n",
    "* [pygal](http://pygal.org/en/stable/)\n",
    "* [Altair](https://altair-viz.github.io/getting_started/overview.html)\n",
    "* Online (commercial): [Plotly](https://plot.ly/)"
   ]
  },
  {
   "cell_type": "markdown",
   "metadata": {
    "slideshow": {
     "slide_type": "notes"
    }
   },
   "source": [
    "## Geospacial: [geoplotlib](https://github.com/andrea-cuttone/geoplotlib)\n",
    "* Resources: [paper](https://arxiv.org/pdf/1608.01933.pdf), [documentation](https://github.com/andrea-cuttone/geoplotlib)\n",
    "\n",
    "|  |  |\n",
    "|---|---|\n",
    "| ![](images/geo1.jpg)  | ![](images/geo2.jpg) |\n",
    "| ![](images/geo3.jpg)  | ![](images/geo4.jpg) |\n",
    "\n",
    "\n",
    "\n"
   ]
  },
  {
   "cell_type": "markdown",
   "metadata": {
    "slideshow": {
     "slide_type": "slide"
    }
   },
   "source": [
    "# Summary\n",
    "\n",
    "* Python offers a large set of tools for data visualization\n",
    "* This lecture: \n",
    "    1. Matplotlib\n",
    "    2. Matplotlib - PyPlot\n",
    "    3. Pandas\n",
    "    4. Basic Image Manipulation with NumPy\n",
    "    5. Interactive Tools\n",
    "    6. Other packages\n"
   ]
  },
  {
   "cell_type": "code",
   "execution_count": null,
   "metadata": {
    "slideshow": {
     "slide_type": "notes"
    }
   },
   "outputs": [],
   "source": []
  }
 ],
 "metadata": {
  "anaconda-cloud": {},
  "celltoolbar": "Slideshow",
  "kernelspec": {
   "display_name": "Python 3",
   "language": "python",
   "name": "python3"
  },
  "language_info": {
   "codemirror_mode": {
    "name": "ipython",
    "version": 3
   },
   "file_extension": ".py",
   "mimetype": "text/x-python",
   "name": "python",
   "nbconvert_exporter": "python",
   "pygments_lexer": "ipython3",
   "version": "3.7.6"
  },
  "toc": {
   "base_numbering": 1,
   "nav_menu": {},
   "number_sections": false,
   "sideBar": false,
   "skip_h1_title": false,
   "title_cell": "Table of Contents",
   "title_sidebar": "Contents",
   "toc_cell": false,
   "toc_position": {},
   "toc_section_display": false,
   "toc_window_display": false
  }
 },
 "nbformat": 4,
 "nbformat_minor": 2
}
